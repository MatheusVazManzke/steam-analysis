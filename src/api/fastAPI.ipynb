{
 "cells": [
  {
   "cell_type": "code",
   "execution_count": null,
   "metadata": {},
   "outputs": [],
   "source": [
    "from fastapi import FastAPI, HTTPException\n",
    "from pydantic import BaseModel\n",
    "import joblib\n",
    "\n",
    "\n",
    "# Define a data model for the input features\n",
    "class InputFeatures(BaseModel):\n",
    "    Achievements: int\n",
    "    about_length: int\n",
    "    n_screens: int\n",
    "    n_movies: int\n",
    "    n_tags: int\n",
    "    n_languages: int\n",
    "    has_publisher: int\n",
    "    has_support_email: int\n",
    "    has_support_url: int\n",
    "    has_website: int\n",
    "\n",
    "\n",
    "app = FastAPI()\n",
    "\n",
    "# Load the trained random forest model\n",
    "model = joblib.load(\"your_model_file.pkl\")\n",
    "\n",
    "\n",
    "# Define a route for making predictions\n",
    "@app.post(\"/predict/\")\n",
    "def predict(features: InputFeatures):\n",
    "    # Extract features from the input data\n",
    "    input_data = [\n",
    "        features.Achievements,\n",
    "        features.about_length,\n",
    "        features.n_screens,\n",
    "        features.n_movies,\n",
    "        features.n_tags,\n",
    "        features.n_languages,\n",
    "        features.has_publisher,\n",
    "        features.has_support_email,\n",
    "        features.has_support_url,\n",
    "        features.has_website,\n",
    "    ]\n",
    "\n",
    "    # Make a prediction\n",
    "    prediction = model.predict([input_data])[0]\n",
    "\n",
    "    # Return the prediction\n",
    "    return {\"prediction\": prediction}"
   ]
  }
 ],
 "metadata": {
  "language_info": {
   "name": "python"
  }
 },
 "nbformat": 4,
 "nbformat_minor": 2
}
