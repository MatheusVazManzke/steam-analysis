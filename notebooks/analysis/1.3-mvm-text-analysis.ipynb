{
 "cells": [
  {
   "cell_type": "code",
   "execution_count": 33,
   "metadata": {},
   "outputs": [],
   "source": [
    "import pandas as pd\n",
    "import os\n",
    "import spacy\n",
    "import matplotlib.pyplot as plt\n",
    "from collections import Counter\n",
    "import numpy as np\n",
    "from gensim.models import Word2Vec\n",
    "from gensim.models import KeyedVectors\n",
    "from gensim.utils import simple_preprocess"
   ]
  },
  {
   "cell_type": "code",
   "execution_count": 2,
   "metadata": {},
   "outputs": [
    {
     "name": "stderr",
     "output_type": "stream",
     "text": [
      "/Users/matheus/miniconda3/envs/steam-analysis/lib/python3.12/site-packages/tqdm/auto.py:21: TqdmWarning: IProgress not found. Please update jupyter and ipywidgets. See https://ipywidgets.readthedocs.io/en/stable/user_install.html\n",
      "  from .autonotebook import tqdm as notebook_tqdm\n",
      "2024-06-02 20:48:25.777104: I tensorflow/core/platform/cpu_feature_guard.cc:210] This TensorFlow binary is optimized to use available CPU instructions in performance-critical operations.\n",
      "To enable the following instructions: SSE4.1 SSE4.2, in other operations, rebuild TensorFlow with the appropriate compiler flags.\n"
     ]
    },
    {
     "ename": "RuntimeError",
     "evalue": "Failed to import transformers.models.bert.modeling_tf_bert because of the following error (look up to see its traceback):\nYour currently installed version of Keras is Keras 3, but this is not yet supported in Transformers. Please install the backwards-compatible tf-keras package with `pip install tf-keras`.",
     "output_type": "error",
     "traceback": [
      "\u001b[0;31m---------------------------------------------------------------------------\u001b[0m",
      "\u001b[0;31mModuleNotFoundError\u001b[0m                       Traceback (most recent call last)",
      "File \u001b[0;32m~/miniconda3/envs/steam-analysis/lib/python3.12/site-packages/transformers/activations_tf.py:22\u001b[0m\n\u001b[1;32m     21\u001b[0m \u001b[38;5;28;01mtry\u001b[39;00m:\n\u001b[0;32m---> 22\u001b[0m     \u001b[38;5;28;01mimport\u001b[39;00m \u001b[38;5;21;01mtf_keras\u001b[39;00m \u001b[38;5;28;01mas\u001b[39;00m \u001b[38;5;21;01mkeras\u001b[39;00m\n\u001b[1;32m     23\u001b[0m \u001b[38;5;28;01mexcept\u001b[39;00m (\u001b[38;5;167;01mModuleNotFoundError\u001b[39;00m, \u001b[38;5;167;01mImportError\u001b[39;00m):\n",
      "\u001b[0;31mModuleNotFoundError\u001b[0m: No module named 'tf_keras'",
      "\nDuring handling of the above exception, another exception occurred:\n",
      "\u001b[0;31mValueError\u001b[0m                                Traceback (most recent call last)",
      "File \u001b[0;32m~/miniconda3/envs/steam-analysis/lib/python3.12/site-packages/transformers/utils/import_utils.py:1535\u001b[0m, in \u001b[0;36m_LazyModule._get_module\u001b[0;34m(self, module_name)\u001b[0m\n\u001b[1;32m   1534\u001b[0m \u001b[38;5;28;01mtry\u001b[39;00m:\n\u001b[0;32m-> 1535\u001b[0m     \u001b[38;5;28;01mreturn\u001b[39;00m \u001b[43mimportlib\u001b[49m\u001b[38;5;241;43m.\u001b[39;49m\u001b[43mimport_module\u001b[49m\u001b[43m(\u001b[49m\u001b[38;5;124;43m\"\u001b[39;49m\u001b[38;5;124;43m.\u001b[39;49m\u001b[38;5;124;43m\"\u001b[39;49m\u001b[43m \u001b[49m\u001b[38;5;241;43m+\u001b[39;49m\u001b[43m \u001b[49m\u001b[43mmodule_name\u001b[49m\u001b[43m,\u001b[49m\u001b[43m \u001b[49m\u001b[38;5;28;43mself\u001b[39;49m\u001b[38;5;241;43m.\u001b[39;49m\u001b[38;5;18;43m__name__\u001b[39;49m\u001b[43m)\u001b[49m\n\u001b[1;32m   1536\u001b[0m \u001b[38;5;28;01mexcept\u001b[39;00m \u001b[38;5;167;01mException\u001b[39;00m \u001b[38;5;28;01mas\u001b[39;00m e:\n",
      "File \u001b[0;32m~/miniconda3/envs/steam-analysis/lib/python3.12/importlib/__init__.py:90\u001b[0m, in \u001b[0;36mimport_module\u001b[0;34m(name, package)\u001b[0m\n\u001b[1;32m     89\u001b[0m         level \u001b[38;5;241m+\u001b[39m\u001b[38;5;241m=\u001b[39m \u001b[38;5;241m1\u001b[39m\n\u001b[0;32m---> 90\u001b[0m \u001b[38;5;28;01mreturn\u001b[39;00m \u001b[43m_bootstrap\u001b[49m\u001b[38;5;241;43m.\u001b[39;49m\u001b[43m_gcd_import\u001b[49m\u001b[43m(\u001b[49m\u001b[43mname\u001b[49m\u001b[43m[\u001b[49m\u001b[43mlevel\u001b[49m\u001b[43m:\u001b[49m\u001b[43m]\u001b[49m\u001b[43m,\u001b[49m\u001b[43m \u001b[49m\u001b[43mpackage\u001b[49m\u001b[43m,\u001b[49m\u001b[43m \u001b[49m\u001b[43mlevel\u001b[49m\u001b[43m)\u001b[49m\n",
      "File \u001b[0;32m<frozen importlib._bootstrap>:1387\u001b[0m, in \u001b[0;36m_gcd_import\u001b[0;34m(name, package, level)\u001b[0m\n",
      "File \u001b[0;32m<frozen importlib._bootstrap>:1360\u001b[0m, in \u001b[0;36m_find_and_load\u001b[0;34m(name, import_)\u001b[0m\n",
      "File \u001b[0;32m<frozen importlib._bootstrap>:1331\u001b[0m, in \u001b[0;36m_find_and_load_unlocked\u001b[0;34m(name, import_)\u001b[0m\n",
      "File \u001b[0;32m<frozen importlib._bootstrap>:935\u001b[0m, in \u001b[0;36m_load_unlocked\u001b[0;34m(spec)\u001b[0m\n",
      "File \u001b[0;32m<frozen importlib._bootstrap_external>:995\u001b[0m, in \u001b[0;36mexec_module\u001b[0;34m(self, module)\u001b[0m\n",
      "File \u001b[0;32m<frozen importlib._bootstrap>:488\u001b[0m, in \u001b[0;36m_call_with_frames_removed\u001b[0;34m(f, *args, **kwds)\u001b[0m\n",
      "File \u001b[0;32m~/miniconda3/envs/steam-analysis/lib/python3.12/site-packages/transformers/models/bert/modeling_tf_bert.py:29\u001b[0m\n\u001b[1;32m     27\u001b[0m \u001b[38;5;28;01mimport\u001b[39;00m \u001b[38;5;21;01mtensorflow\u001b[39;00m \u001b[38;5;28;01mas\u001b[39;00m \u001b[38;5;21;01mtf\u001b[39;00m\n\u001b[0;32m---> 29\u001b[0m \u001b[38;5;28;01mfrom\u001b[39;00m \u001b[38;5;21;01m.\u001b[39;00m\u001b[38;5;21;01m.\u001b[39;00m\u001b[38;5;21;01m.\u001b[39;00m\u001b[38;5;21;01mactivations_tf\u001b[39;00m \u001b[38;5;28;01mimport\u001b[39;00m get_tf_activation\n\u001b[1;32m     30\u001b[0m \u001b[38;5;28;01mfrom\u001b[39;00m \u001b[38;5;21;01m.\u001b[39;00m\u001b[38;5;21;01m.\u001b[39;00m\u001b[38;5;21;01m.\u001b[39;00m\u001b[38;5;21;01mmodeling_tf_outputs\u001b[39;00m \u001b[38;5;28;01mimport\u001b[39;00m (\n\u001b[1;32m     31\u001b[0m     TFBaseModelOutputWithPastAndCrossAttentions,\n\u001b[1;32m     32\u001b[0m     TFBaseModelOutputWithPoolingAndCrossAttentions,\n\u001b[0;32m   (...)\u001b[0m\n\u001b[1;32m     39\u001b[0m     TFTokenClassifierOutput,\n\u001b[1;32m     40\u001b[0m )\n",
      "File \u001b[0;32m~/miniconda3/envs/steam-analysis/lib/python3.12/site-packages/transformers/activations_tf.py:27\u001b[0m\n\u001b[1;32m     26\u001b[0m     \u001b[38;5;28;01mif\u001b[39;00m parse(keras\u001b[38;5;241m.\u001b[39m__version__)\u001b[38;5;241m.\u001b[39mmajor \u001b[38;5;241m>\u001b[39m \u001b[38;5;241m2\u001b[39m:\n\u001b[0;32m---> 27\u001b[0m         \u001b[38;5;28;01mraise\u001b[39;00m \u001b[38;5;167;01mValueError\u001b[39;00m(\n\u001b[1;32m     28\u001b[0m             \u001b[38;5;124m\"\u001b[39m\u001b[38;5;124mYour currently installed version of Keras is Keras 3, but this is not yet supported in \u001b[39m\u001b[38;5;124m\"\u001b[39m\n\u001b[1;32m     29\u001b[0m             \u001b[38;5;124m\"\u001b[39m\u001b[38;5;124mTransformers. Please install the backwards-compatible tf-keras package with \u001b[39m\u001b[38;5;124m\"\u001b[39m\n\u001b[1;32m     30\u001b[0m             \u001b[38;5;124m\"\u001b[39m\u001b[38;5;124m`pip install tf-keras`.\u001b[39m\u001b[38;5;124m\"\u001b[39m\n\u001b[1;32m     31\u001b[0m         )\n\u001b[1;32m     34\u001b[0m \u001b[38;5;28;01mdef\u001b[39;00m \u001b[38;5;21m_gelu\u001b[39m(x):\n",
      "\u001b[0;31mValueError\u001b[0m: Your currently installed version of Keras is Keras 3, but this is not yet supported in Transformers. Please install the backwards-compatible tf-keras package with `pip install tf-keras`.",
      "\nThe above exception was the direct cause of the following exception:\n",
      "\u001b[0;31mRuntimeError\u001b[0m                              Traceback (most recent call last)",
      "Cell \u001b[0;32mIn[2], line 1\u001b[0m\n\u001b[0;32m----> 1\u001b[0m \u001b[38;5;28;01mfrom\u001b[39;00m \u001b[38;5;21;01mtransformers\u001b[39;00m \u001b[38;5;28;01mimport\u001b[39;00m BertTokenizer, TFBertModel\n\u001b[1;32m      2\u001b[0m \u001b[38;5;28;01mimport\u001b[39;00m \u001b[38;5;21;01mtensorflow\u001b[39;00m \u001b[38;5;28;01mas\u001b[39;00m \u001b[38;5;21;01mtf\u001b[39;00m\n",
      "File \u001b[0;32m<frozen importlib._bootstrap>:1412\u001b[0m, in \u001b[0;36m_handle_fromlist\u001b[0;34m(module, fromlist, import_, recursive)\u001b[0m\n",
      "File \u001b[0;32m~/miniconda3/envs/steam-analysis/lib/python3.12/site-packages/transformers/utils/import_utils.py:1526\u001b[0m, in \u001b[0;36m_LazyModule.__getattr__\u001b[0;34m(self, name)\u001b[0m\n\u001b[1;32m   1524\u001b[0m \u001b[38;5;28;01melif\u001b[39;00m name \u001b[38;5;129;01min\u001b[39;00m \u001b[38;5;28mself\u001b[39m\u001b[38;5;241m.\u001b[39m_class_to_module\u001b[38;5;241m.\u001b[39mkeys():\n\u001b[1;32m   1525\u001b[0m     module \u001b[38;5;241m=\u001b[39m \u001b[38;5;28mself\u001b[39m\u001b[38;5;241m.\u001b[39m_get_module(\u001b[38;5;28mself\u001b[39m\u001b[38;5;241m.\u001b[39m_class_to_module[name])\n\u001b[0;32m-> 1526\u001b[0m     value \u001b[38;5;241m=\u001b[39m \u001b[38;5;28;43mgetattr\u001b[39;49m\u001b[43m(\u001b[49m\u001b[43mmodule\u001b[49m\u001b[43m,\u001b[49m\u001b[43m \u001b[49m\u001b[43mname\u001b[49m\u001b[43m)\u001b[49m\n\u001b[1;32m   1527\u001b[0m \u001b[38;5;28;01melse\u001b[39;00m:\n\u001b[1;32m   1528\u001b[0m     \u001b[38;5;28;01mraise\u001b[39;00m \u001b[38;5;167;01mAttributeError\u001b[39;00m(\u001b[38;5;124mf\u001b[39m\u001b[38;5;124m\"\u001b[39m\u001b[38;5;124mmodule \u001b[39m\u001b[38;5;132;01m{\u001b[39;00m\u001b[38;5;28mself\u001b[39m\u001b[38;5;241m.\u001b[39m\u001b[38;5;18m__name__\u001b[39m\u001b[38;5;132;01m}\u001b[39;00m\u001b[38;5;124m has no attribute \u001b[39m\u001b[38;5;132;01m{\u001b[39;00mname\u001b[38;5;132;01m}\u001b[39;00m\u001b[38;5;124m\"\u001b[39m)\n",
      "File \u001b[0;32m~/miniconda3/envs/steam-analysis/lib/python3.12/site-packages/transformers/utils/import_utils.py:1525\u001b[0m, in \u001b[0;36m_LazyModule.__getattr__\u001b[0;34m(self, name)\u001b[0m\n\u001b[1;32m   1523\u001b[0m     value \u001b[38;5;241m=\u001b[39m \u001b[38;5;28mself\u001b[39m\u001b[38;5;241m.\u001b[39m_get_module(name)\n\u001b[1;32m   1524\u001b[0m \u001b[38;5;28;01melif\u001b[39;00m name \u001b[38;5;129;01min\u001b[39;00m \u001b[38;5;28mself\u001b[39m\u001b[38;5;241m.\u001b[39m_class_to_module\u001b[38;5;241m.\u001b[39mkeys():\n\u001b[0;32m-> 1525\u001b[0m     module \u001b[38;5;241m=\u001b[39m \u001b[38;5;28;43mself\u001b[39;49m\u001b[38;5;241;43m.\u001b[39;49m\u001b[43m_get_module\u001b[49m\u001b[43m(\u001b[49m\u001b[38;5;28;43mself\u001b[39;49m\u001b[38;5;241;43m.\u001b[39;49m\u001b[43m_class_to_module\u001b[49m\u001b[43m[\u001b[49m\u001b[43mname\u001b[49m\u001b[43m]\u001b[49m\u001b[43m)\u001b[49m\n\u001b[1;32m   1526\u001b[0m     value \u001b[38;5;241m=\u001b[39m \u001b[38;5;28mgetattr\u001b[39m(module, name)\n\u001b[1;32m   1527\u001b[0m \u001b[38;5;28;01melse\u001b[39;00m:\n",
      "File \u001b[0;32m~/miniconda3/envs/steam-analysis/lib/python3.12/site-packages/transformers/utils/import_utils.py:1537\u001b[0m, in \u001b[0;36m_LazyModule._get_module\u001b[0;34m(self, module_name)\u001b[0m\n\u001b[1;32m   1535\u001b[0m     \u001b[38;5;28;01mreturn\u001b[39;00m importlib\u001b[38;5;241m.\u001b[39mimport_module(\u001b[38;5;124m\"\u001b[39m\u001b[38;5;124m.\u001b[39m\u001b[38;5;124m\"\u001b[39m \u001b[38;5;241m+\u001b[39m module_name, \u001b[38;5;28mself\u001b[39m\u001b[38;5;241m.\u001b[39m\u001b[38;5;18m__name__\u001b[39m)\n\u001b[1;32m   1536\u001b[0m \u001b[38;5;28;01mexcept\u001b[39;00m \u001b[38;5;167;01mException\u001b[39;00m \u001b[38;5;28;01mas\u001b[39;00m e:\n\u001b[0;32m-> 1537\u001b[0m     \u001b[38;5;28;01mraise\u001b[39;00m \u001b[38;5;167;01mRuntimeError\u001b[39;00m(\n\u001b[1;32m   1538\u001b[0m         \u001b[38;5;124mf\u001b[39m\u001b[38;5;124m\"\u001b[39m\u001b[38;5;124mFailed to import \u001b[39m\u001b[38;5;132;01m{\u001b[39;00m\u001b[38;5;28mself\u001b[39m\u001b[38;5;241m.\u001b[39m\u001b[38;5;18m__name__\u001b[39m\u001b[38;5;132;01m}\u001b[39;00m\u001b[38;5;124m.\u001b[39m\u001b[38;5;132;01m{\u001b[39;00mmodule_name\u001b[38;5;132;01m}\u001b[39;00m\u001b[38;5;124m because of the following error (look up to see its\u001b[39m\u001b[38;5;124m\"\u001b[39m\n\u001b[1;32m   1539\u001b[0m         \u001b[38;5;124mf\u001b[39m\u001b[38;5;124m\"\u001b[39m\u001b[38;5;124m traceback):\u001b[39m\u001b[38;5;130;01m\\n\u001b[39;00m\u001b[38;5;132;01m{\u001b[39;00me\u001b[38;5;132;01m}\u001b[39;00m\u001b[38;5;124m\"\u001b[39m\n\u001b[1;32m   1540\u001b[0m     ) \u001b[38;5;28;01mfrom\u001b[39;00m \u001b[38;5;21;01me\u001b[39;00m\n",
      "\u001b[0;31mRuntimeError\u001b[0m: Failed to import transformers.models.bert.modeling_tf_bert because of the following error (look up to see its traceback):\nYour currently installed version of Keras is Keras 3, but this is not yet supported in Transformers. Please install the backwards-compatible tf-keras package with `pip install tf-keras`."
     ]
    }
   ],
   "source": [
    "from transformers import BertTokenizer, TFBertModel\n",
    "import tensorflow as tf"
   ]
  },
  {
   "cell_type": "code",
   "execution_count": 2,
   "metadata": {},
   "outputs": [],
   "source": [
    "os.chdir(\"../..\")"
   ]
  },
  {
   "cell_type": "code",
   "execution_count": 3,
   "metadata": {},
   "outputs": [],
   "source": [
    "steam_df = pd.read_csv(\"data/raw/games.csv\")"
   ]
  },
  {
   "cell_type": "code",
   "execution_count": 4,
   "metadata": {},
   "outputs": [],
   "source": [
    "steam_df[\"total_reviews\"] = steam_df[\"Positive\"] + steam_df[\"Negative\"]\n",
    "steam_df[\"success\"] = steam_df[\"total_reviews\"] > 500"
   ]
  },
  {
   "cell_type": "code",
   "execution_count": 5,
   "metadata": {},
   "outputs": [],
   "source": [
    "steam_success = steam_df[steam_df[\"success\"] == 1]\n",
    "steam_failure = steam_df[steam_df[\"success\"] == 0]"
   ]
  },
  {
   "cell_type": "code",
   "execution_count": 6,
   "metadata": {},
   "outputs": [],
   "source": [
    "steam_success_about = steam_success[\"About the game\"]\n",
    "steam_failure_about = steam_failure[\"About the game\"]"
   ]
  },
  {
   "cell_type": "code",
   "execution_count": 7,
   "metadata": {},
   "outputs": [
    {
     "name": "stderr",
     "output_type": "stream",
     "text": [
      "/var/folders/25/8m9ycrtx2kv84b8szslr4jfc0000gp/T/ipykernel_8025/3860958588.py:1: SettingWithCopyWarning: \n",
      "A value is trying to be set on a copy of a slice from a DataFrame\n",
      "\n",
      "See the caveats in the documentation: https://pandas.pydata.org/pandas-docs/stable/user_guide/indexing.html#returning-a-view-versus-a-copy\n",
      "  steam_success_about.dropna(inplace=True)\n",
      "/var/folders/25/8m9ycrtx2kv84b8szslr4jfc0000gp/T/ipykernel_8025/3860958588.py:2: SettingWithCopyWarning: \n",
      "A value is trying to be set on a copy of a slice from a DataFrame\n",
      "\n",
      "See the caveats in the documentation: https://pandas.pydata.org/pandas-docs/stable/user_guide/indexing.html#returning-a-view-versus-a-copy\n",
      "  steam_failure_about.dropna(inplace=True)\n"
     ]
    }
   ],
   "source": [
    "steam_success_about.dropna(inplace=True)\n",
    "steam_failure_about.dropna(inplace=True)"
   ]
  },
  {
   "cell_type": "code",
   "execution_count": 10,
   "metadata": {},
   "outputs": [],
   "source": [
    "# import spacy\n",
    "# import pandas as pd\n",
    "# from collections import Counter\n",
    "# import matplotlib.pyplot as plt\n",
    "\n",
    "# Load the spaCy language model\n",
    "nlp = spacy.load(\"en_core_web_sm\")\n",
    "\n",
    "# Assuming you have a pandas Series with your texts\n",
    "# For example:\n",
    "# texts = pd.Series([\"This is a sample sentence.\", \"Another text for processing.\"])\n",
    "# Replace with your actual series\n",
    "# texts = steam_about\n",
    "\n",
    "\n",
    "# Function to count POS tags in a single text\n",
    "def count_pos(text):\n",
    "    doc = nlp(text)\n",
    "    return [token.pos_ for token in doc]"
   ]
  },
  {
   "cell_type": "code",
   "execution_count": 11,
   "metadata": {},
   "outputs": [],
   "source": [
    "# Apply the function to each text and aggregate the results\n",
    "pos_counts = Counter()\n",
    "for text in steam_failure_about[:1000]:\n",
    "    pos_counts.update(count_pos(text))\n",
    "\n",
    "# Convert the counter to a DataFrame for easier plotting\n",
    "# pos_df = pd.DataFrame.from_dict(pos_counts, orient='index', columns=['count'])"
   ]
  },
  {
   "cell_type": "code",
   "execution_count": 12,
   "metadata": {},
   "outputs": [
    {
     "data": {
      "image/png": "[encoded data removed]",
      "text/plain": [
       "<Figure size 640x480 with 1 Axes>"
      ]
     },
     "metadata": {},
     "output_type": "display_data"
    }
   ],
   "source": [
    "# Plot the histogram\n",
    "pos_df = pd.DataFrame.from_dict(pos_counts, orient=\"index\", columns=[\"count\"])\n",
    "\n",
    "pos_df.sort_values(\"count\", ascending=False).plot(kind=\"bar\", legend=False)\n",
    "plt.xlabel(\"Part of Speech\")\n",
    "plt.ylabel(\"Frequency\")\n",
    "plt.title(\"Word Class Frequencies\")\n",
    "plt.show()"
   ]
  },
  {
   "cell_type": "code",
   "execution_count": 13,
   "metadata": {},
   "outputs": [
    {
     "data": {
      "image/png": "[encoded data removed]",
      "text/plain": [
       "<Figure size 640x480 with 1 Axes>"
      ]
     },
     "metadata": {},
     "output_type": "display_data"
    }
   ],
   "source": [
    "# Plot the histogram\n",
    "pos_df = pd.DataFrame.from_dict(pos_counts, orient=\"index\", columns=[\"count\"])\n",
    "\n",
    "pos_df.sort_values(\"count\", ascending=False).plot(kind=\"bar\", legend=False)\n",
    "plt.xlabel(\"Part of Speech\")\n",
    "plt.ylabel(\"Frequency\")\n",
    "plt.title(\"Word Class Frequencies\")\n",
    "plt.show()"
   ]
  },
  {
   "cell_type": "code",
   "execution_count": 17,
   "metadata": {},
   "outputs": [],
   "source": [
    "import spacy\n",
    "import pandas as pd\n",
    "from collections import Counter\n",
    "import numpy as np\n",
    "\n",
    "# Load the spaCy language model\n",
    "nlp = spacy.load(\"en_core_web_sm\")\n",
    "\n",
    "\n",
    "def count_pos(text):\n",
    "    \"\"\"Count the POS tags in a single text\"\"\"\n",
    "    doc = nlp(text)\n",
    "    return [token.pos_ for token in doc]\n",
    "\n",
    "\n",
    "def get_pos_counts(texts):\n",
    "    \"\"\"Get POS counts for a dataset\"\"\"\n",
    "    pos_counts = []\n",
    "    for text in texts:\n",
    "        if isinstance(text, str):  # Ensure text is a string\n",
    "            pos_counts.append(count_pos(text))\n",
    "    return pos_counts\n",
    "\n",
    "\n",
    "def calculate_pos_stats(texts):\n",
    "    \"\"\"\n",
    "    Calculate the mean and standard deviation of POS counts for a list of texts.\n",
    "\n",
    "    Parameters:\n",
    "    texts (list of str): List of text documents.\n",
    "\n",
    "    Returns:\n",
    "    pd.DataFrame: DataFrame with mean and standard deviation for each POS.\n",
    "    \"\"\"\n",
    "    pos_counts = get_pos_counts(texts)\n",
    "\n",
    "    # Flatten the list of POS counts and create a Counter for each document\n",
    "    pos_counters = [Counter(pos_list) for pos_list in pos_counts]\n",
    "\n",
    "    # Create a DataFrame from the list of Counters\n",
    "    pos_df = pd.DataFrame(pos_counters).fillna(0).astype(int)\n",
    "\n",
    "    # Calculate mean and standard deviation for each POS\n",
    "    pos_mean = pos_df.mean()\n",
    "    pos_std = pos_df.std()\n",
    "\n",
    "    # Combine the results into a single DataFrame\n",
    "    pos_stats = pd.DataFrame({\"mean\": pos_mean, \"std\": pos_std})\n",
    "\n",
    "    return pos_stats"
   ]
  },
  {
   "cell_type": "code",
   "execution_count": 18,
   "metadata": {},
   "outputs": [
    {
     "name": "stdout",
     "output_type": "stream",
     "text": [
      "         mean        std\n",
      "PROPN  15.843  20.597976\n",
      "AUX     8.873  10.112821\n",
      "DET    18.106  17.396995\n",
      "ADJ    17.178  15.471771\n",
      "CCONJ   8.287   8.085172\n",
      "NOUN   48.626  44.663037\n",
      "ADP    20.260  17.749914\n",
      "PUNCT  28.865  27.885630\n",
      "VERB   25.925  22.804197\n",
      "ADV     6.265   7.268673\n",
      "SCONJ   2.603   3.338643\n",
      "PRON   14.234  14.864663\n",
      "PART    5.852   6.778203\n",
      "NUM     3.276   4.709778\n",
      "X       0.571   2.559592\n",
      "INTJ    0.196   0.661832\n",
      "SYM     0.435   2.251854\n",
      "SPACE   0.206   3.625563\n"
     ]
    }
   ],
   "source": [
    "pos_stats = calculate_pos_stats(steam_failure_about[:1000])\n",
    "print(pos_stats)"
   ]
  },
  {
   "cell_type": "code",
   "execution_count": 19,
   "metadata": {},
   "outputs": [
    {
     "name": "stdout",
     "output_type": "stream",
     "text": [
      "         mean        std\n",
      "VERB   35.969  26.611392\n",
      "PRON   18.586  16.060590\n",
      "ADP    30.981  21.953464\n",
      "NOUN   70.855  51.547426\n",
      "PART    7.444   6.381974\n",
      "DET    25.063  19.570233\n",
      "ADJ    26.900  19.680888\n",
      "CCONJ  13.750  11.159123\n",
      "PROPN  25.294  25.472700\n",
      "NUM     4.058   4.781370\n",
      "PUNCT  40.295  30.204176\n",
      "AUX    10.473  10.106206\n",
      "SCONJ   3.177   3.367642\n",
      "ADV     9.130   8.583051\n",
      "X       0.329   1.305551\n",
      "SPACE   0.183   3.236663\n",
      "SYM     0.378   1.868317\n",
      "INTJ    0.189   0.706950\n"
     ]
    }
   ],
   "source": [
    "pos_stats = calculate_pos_stats(steam_success_about[:1000])\n",
    "print(pos_stats)"
   ]
  },
  {
   "cell_type": "code",
   "execution_count": 22,
   "metadata": {},
   "outputs": [],
   "source": [
    "import spacy\n",
    "import pandas as pd\n",
    "from collections import Counter\n",
    "import numpy as np\n",
    "\n",
    "# Load the spaCy language model\n",
    "nlp = spacy.load(\"en_core_web_sm\")\n",
    "\n",
    "\n",
    "def count_pos(text):\n",
    "    \"\"\"Count the POS tags in a single text\"\"\"\n",
    "    doc = nlp(text)\n",
    "    return [token.pos_ for token in doc]\n",
    "\n",
    "\n",
    "def get_pos_counts(texts):\n",
    "    \"\"\"Get POS counts for a dataset\"\"\"\n",
    "    pos_counts = []\n",
    "    for text in texts:\n",
    "        if isinstance(text, str):  # Ensure text is a string\n",
    "            pos_counts.append(count_pos(text))\n",
    "    return pos_counts\n",
    "\n",
    "\n",
    "def calculate_pos_stats(texts):\n",
    "    \"\"\"\n",
    "    Calculate the mean and standard deviation of POS counts for a list of texts.\n",
    "\n",
    "    Parameters:\n",
    "    texts (list of str): List of text documents.\n",
    "\n",
    "    Returns:\n",
    "    pd.DataFrame: DataFrame with mean and standard deviation for each POS.\n",
    "    \"\"\"\n",
    "    pos_counts = get_pos_counts(texts)\n",
    "\n",
    "    # Flatten the list of POS counts and create a Counter for each document\n",
    "    pos_counters = [Counter(pos_list) for pos_list in pos_counts]\n",
    "\n",
    "    # Create a DataFrame from the list of Counters\n",
    "    pos_df = pd.DataFrame(pos_counters).fillna(0).astype(int)\n",
    "\n",
    "    # Calculate mean and standard deviation for each POS\n",
    "    pos_mean = pos_df.mean()\n",
    "    pos_std = pos_df.std()\n",
    "\n",
    "    # Combine the results into a single DataFrame\n",
    "    pos_stats = pd.DataFrame({\"mean\": pos_mean, \"std\": pos_std})\n",
    "\n",
    "    return pos_stats"
   ]
  },
  {
   "cell_type": "code",
   "execution_count": 28,
   "metadata": {},
   "outputs": [
    {
     "name": "stdout",
     "output_type": "stream",
     "text": [
      "         mean        std\n",
      "VERB   35.969  26.611392\n",
      "PRON   18.586  16.060590\n",
      "ADP    30.981  21.953464\n",
      "NOUN   70.855  51.547426\n",
      "PART    7.444   6.381974\n",
      "DET    25.063  19.570233\n",
      "ADJ    26.900  19.680888\n",
      "CCONJ  13.750  11.159123\n",
      "PROPN  25.294  25.472700\n",
      "NUM     4.058   4.781370\n",
      "PUNCT  40.295  30.204176\n",
      "AUX    10.473  10.106206\n",
      "SCONJ   3.177   3.367642\n",
      "ADV     9.130   8.583051\n",
      "X       0.329   1.305551\n",
      "SPACE   0.183   3.236663\n",
      "SYM     0.378   1.868317\n",
      "INTJ    0.189   0.706950\n"
     ]
    }
   ],
   "source": [
    "pos_stats_success = calculate_pos_stats(steam_success_about[:1000])\n",
    "print(pos_stats_success)"
   ]
  },
  {
   "cell_type": "code",
   "execution_count": 29,
   "metadata": {},
   "outputs": [
    {
     "name": "stdout",
     "output_type": "stream",
     "text": [
      "         mean        std\n",
      "PROPN  15.843  20.597976\n",
      "AUX     8.873  10.112821\n",
      "DET    18.106  17.396995\n",
      "ADJ    17.178  15.471771\n",
      "CCONJ   8.287   8.085172\n",
      "NOUN   48.626  44.663037\n",
      "ADP    20.260  17.749914\n",
      "PUNCT  28.865  27.885630\n",
      "VERB   25.925  22.804197\n",
      "ADV     6.265   7.268673\n",
      "SCONJ   2.603   3.338643\n",
      "PRON   14.234  14.864663\n",
      "PART    5.852   6.778203\n",
      "NUM     3.276   4.709778\n",
      "X       0.571   2.559592\n",
      "INTJ    0.196   0.661832\n",
      "SYM     0.435   2.251854\n",
      "SPACE   0.206   3.625563\n"
     ]
    }
   ],
   "source": [
    "pos_stats_failure = calculate_pos_stats(steam_failure_about[:1000])\n",
    "print(pos_stats_failure)"
   ]
  },
  {
   "cell_type": "code",
   "execution_count": 30,
   "metadata": {},
   "outputs": [
    {
     "data": {
      "image/png": "[encoded data removed]",
      "text/plain": [
       "<Figure size 1200x800 with 1 Axes>"
      ]
     },
     "metadata": {},
     "output_type": "display_data"
    }
   ],
   "source": [
    "# Sample DataFrames for demonstration (replace with your actual DataFrames)\n",
    "# pos_stats_df1 = ...\n",
    "# pos_stats_df2 = ...\n",
    "\n",
    "# Extract POS tags, means, and standard deviations\n",
    "pos_tags = pos_stats.index\n",
    "means1 = pos_stats_success[\"mean\"]\n",
    "stds1 = pos_stats_success[\"std\"]\n",
    "means2 = pos_stats_failure[\"mean\"]\n",
    "stds2 = pos_stats_failure[\"std\"]\n",
    "\n",
    "# Set up the bar width and positions\n",
    "bar_width = 0.35\n",
    "index = np.arange(len(pos_tags))\n",
    "\n",
    "# Create a bar plot\n",
    "fig, ax = plt.subplots(figsize=(12, 8))\n",
    "\n",
    "# Plot dataset 1\n",
    "bar1 = ax.bar(\n",
    "    index, means1, bar_width, yerr=stds1, label=\"success\", alpha=0.7, capsize=5\n",
    ")\n",
    "\n",
    "# Plot dataset 2\n",
    "bar2 = ax.bar(\n",
    "    index + bar_width,\n",
    "    means2,\n",
    "    bar_width,\n",
    "    yerr=stds2,\n",
    "    label=\"failure\",\n",
    "    alpha=0.7,\n",
    "    capsize=5,\n",
    ")\n",
    "\n",
    "# Add labels, title, and legend\n",
    "ax.set_xlabel(\"Part of Speech\")\n",
    "ax.set_ylabel(\"Frequency\")\n",
    "ax.set_title(\"Comparison of POS Frequencies Between Two Datasets\")\n",
    "ax.set_xticks(index + bar_width / 2)\n",
    "ax.set_xticklabels(pos_tags, rotation=45)\n",
    "ax.legend()\n",
    "\n",
    "# Show the plot\n",
    "plt.tight_layout()\n",
    "plt.show()"
   ]
  },
  {
   "cell_type": "code",
   "execution_count": 47,
   "metadata": {},
   "outputs": [
    {
     "name": "stdout",
     "output_type": "stream",
     "text": [
      "Mean number of tokens per sentence: 19.41 (std: 8.77)\n",
      "Mean token length: 4.49 (std: 2.41)\n",
      "Mean number of subordinate clauses per sentence: 0.49 (std: 0.42)\n",
      "Mean Type-Token Ratio (TTR): 0.93 (std: 0.07)\n",
      "Mean Flesch Reading Ease: 65.75 (std: 15.18)\n",
      "Mean Gunning Fog Index: 10.08 (std: 3.62)\n"
     ]
    }
   ],
   "source": [
    "# Load the spaCy model\n",
    "nlp = spacy.load(\"en_core_web_lg\")\n",
    "\n",
    "# Example pandas Series of texts\n",
    "texts = steam_failure_about[:1000]\n",
    "\n",
    "# Initialize lists to store aggregated metrics\n",
    "all_token_counts = []\n",
    "all_token_lengths = []\n",
    "all_clause_counts = []\n",
    "all_ttrs = []\n",
    "all_flesch_reading_eases = []\n",
    "all_gunning_fogs = []\n",
    "\n",
    "# Process each text in the Series\n",
    "for text in texts:\n",
    "    doc = nlp(text)\n",
    "\n",
    "    # Initialize lists to store metrics for the current text\n",
    "    token_counts = []\n",
    "    token_lengths = []\n",
    "    clause_counts = []\n",
    "    ttrs = []\n",
    "    flesch_reading_eases = []\n",
    "    gunning_fogs = []\n",
    "\n",
    "    # Calculate complexity metrics for each sentence in the current text\n",
    "    for sentence in doc.sents:\n",
    "        words = [token.text for token in sentence if token.is_alpha]\n",
    "        unique_words = set(words)\n",
    "        ttr = len(unique_words) / len(words) if words else 0\n",
    "\n",
    "        token_counts.append(len(sentence))\n",
    "        token_lengths.append(np.mean([len(token) for token in sentence]))\n",
    "        clause_counts.append(\n",
    "            len(\n",
    "                [\n",
    "                    token\n",
    "                    for token in sentence\n",
    "                    if token.dep_ == \"ccomp\" or token.dep_ == \"advcl\"\n",
    "                ]\n",
    "            )\n",
    "        )\n",
    "        ttrs.append(ttr)\n",
    "        flesch_reading_eases.append(textstat.flesch_reading_ease(sentence.text))\n",
    "        gunning_fogs.append(textstat.gunning_fog(sentence.text))\n",
    "\n",
    "    # Append the mean metrics of the current text to the aggregated lists\n",
    "    all_token_counts.append(np.mean(token_counts))\n",
    "    all_token_lengths.append(np.mean(token_lengths))\n",
    "    all_clause_counts.append(np.mean(clause_counts))\n",
    "    all_ttrs.append(np.mean(ttrs))\n",
    "    all_flesch_reading_eases.append(np.mean(flesch_reading_eases))\n",
    "    all_gunning_fogs.append(np.mean(gunning_fogs))\n",
    "\n",
    "# Calculate overall means and standard deviations for all texts\n",
    "mean_token_count = np.mean(all_token_counts)\n",
    "std_token_count = np.std(all_token_counts)\n",
    "\n",
    "mean_token_length = np.mean(all_token_lengths)\n",
    "std_token_length = np.std(all_token_lengths)\n",
    "\n",
    "mean_clause_count = np.mean(all_clause_counts)\n",
    "std_clause_count = np.std(all_clause_counts)\n",
    "\n",
    "mean_ttr = np.mean(all_ttrs)\n",
    "std_ttr = np.std(all_ttrs)\n",
    "\n",
    "mean_flesch_reading_ease = np.mean(all_flesch_reading_eases)\n",
    "std_flesch_reading_ease = np.std(all_flesch_reading_eases)\n",
    "\n",
    "mean_gunning_fog = np.mean(all_gunning_fogs)\n",
    "std_gunning_fog = np.std(all_gunning_fogs)\n",
    "\n",
    "# Print the summarized metrics\n",
    "print(\n",
    "    f\"Mean number of tokens per sentence: {mean_token_count:.2f} (std: {std_token_count:.2f})\"\n",
    ")\n",
    "print(f\"Mean token length: {mean_token_length:.2f} (std: {std_token_length:.2f})\")\n",
    "print(\n",
    "    f\"Mean number of subordinate clauses per sentence: {mean_clause_count:.2f} (std: {std_clause_count:.2f})\"\n",
    ")\n",
    "print(f\"Mean Type-Token Ratio (TTR): {mean_ttr:.2f} (std: {std_ttr:.2f})\")\n",
    "print(\n",
    "    f\"Mean Flesch Reading Ease: {mean_flesch_reading_ease:.2f} (std: {std_flesch_reading_ease:.2f})\"\n",
    ")\n",
    "print(f\"Mean Gunning Fog Index: {mean_gunning_fog:.2f} (std: {std_gunning_fog:.2f})\")"
   ]
  },
  {
   "cell_type": "code",
   "execution_count": 12,
   "metadata": {},
   "outputs": [],
   "source": [
    "nlp = spacy.load(\"en_core_web_lg\")"
   ]
  },
  {
   "cell_type": "code",
   "execution_count": 48,
   "metadata": {},
   "outputs": [],
   "source": [
    "import spacy\n",
    "import numpy as np\n",
    "from sklearn.metrics.pairwise import cosine_similarity\n",
    "\n",
    "# Load spaCy model with vectors\n",
    "nlp = spacy.load(\"en_core_web_lg\")\n",
    "\n",
    "\n",
    "def extract_adjectives(text):\n",
    "    doc = nlp(text)\n",
    "    adjectives = [token.lemma_ for token in doc if token.pos_ == \"ADJ\"]\n",
    "    return adjectives\n",
    "\n",
    "\n",
    "def get_adjective_vectors(adjectives):\n",
    "    vectors = [nlp(word).vector for word in adjectives if word in nlp.vocab]\n",
    "    return vectors\n",
    "\n",
    "\n",
    "def calculate_similarity(user_vectors, model_vectors):\n",
    "    if not user_vectors or not model_vectors:\n",
    "        return 0.0\n",
    "\n",
    "    # Average vectors for each text\n",
    "    user_vector_avg = np.mean(user_vectors, axis=0)\n",
    "    model_vector_avg = np.mean(model_vectors, axis=0)\n",
    "\n",
    "    # Calculate cosine similarity\n",
    "    similarity = cosine_similarity([user_vector_avg], [model_vector_avg])[0][0]\n",
    "    return similarity"
   ]
  },
  {
   "cell_type": "code",
   "execution_count": 54,
   "metadata": {},
   "outputs": [
    {
     "name": "stdout",
     "output_type": "stream",
     "text": [
      "Adjective Similarity Score: 0.72757053\n"
     ]
    }
   ],
   "source": [
    "# Example texts\n",
    "user_text = steam_failure_about.iloc[60]\n",
    "model_text = steam_success_about.iloc[1]\n",
    "\n",
    "# Process texts\n",
    "user_adjectives = extract_adjectives(user_text)\n",
    "model_adjectives = extract_adjectives(model_text)\n",
    "\n",
    "user_vectors = get_adjective_vectors(user_adjectives)\n",
    "model_vectors = get_adjective_vectors(model_adjectives)\n",
    "\n",
    "similarity_score = calculate_similarity(user_vectors, model_vectors)\n",
    "print(\"Adjective Similarity Score:\", similarity_score)"
   ]
  },
  {
   "cell_type": "code",
   "execution_count": 10,
   "metadata": {},
   "outputs": [],
   "source": [
    "# Define a function to extract adjectives from a single text\n",
    "def extract_adjectives(text):\n",
    "    if pd.isna(text):\n",
    "        return []\n",
    "    doc = nlp(text)\n",
    "    adjectives = [token.lemma_ for token in doc if token.pos_ == \"ADJ\"]\n",
    "    return adjectives"
   ]
  },
  {
   "cell_type": "code",
   "execution_count": null,
   "metadata": {},
   "outputs": [],
   "source": [
    "adjectives_count = [token.lemma_ for token in doc if token.pos_ == \"ADJ\"]"
   ]
  },
  {
   "cell_type": "code",
   "execution_count": 13,
   "metadata": {},
   "outputs": [
    {
     "name": "stdout",
     "output_type": "stream",
     "text": [
      "        Adjective  Count\n",
      "0      accidental      3\n",
      "1      tremendous      7\n",
      "2        tactical    120\n",
      "3             rpg     47\n",
      "4           young     74\n",
      "...           ...    ...\n",
      "2837      suspect      1\n",
      "2838  overwrought      1\n",
      "2839     synthpop      1\n",
      "2840    pseudo-3d      1\n",
      "2841  immersively      1\n",
      "\n",
      "[2842 rows x 2 columns]\n"
     ]
    }
   ],
   "source": [
    "# Example pd.Series of texts\n",
    "texts = steam_success_about[:1000]\n",
    "\n",
    "# Apply the function to the entire pd.Series to get adjectives for each text\n",
    "all_adjectives = texts.apply(extract_adjectives)\n",
    "\n",
    "# Flatten the list of lists into a single list\n",
    "flat_adjectives = [adj for sublist in all_adjectives for adj in sublist]\n",
    "\n",
    "# Count the occurrences of each adjective\n",
    "adjective_counts = Counter(flat_adjectives)\n",
    "\n",
    "# Convert the counter to a DataFrame for better visualization\n",
    "adjective_df_success = pd.DataFrame(\n",
    "    adjective_counts.items(), columns=[\"Adjective\", \"Count\"]\n",
    ")\n",
    "\n",
    "print(adjective_df_success)"
   ]
  },
  {
   "cell_type": "code",
   "execution_count": 14,
   "metadata": {},
   "outputs": [
    {
     "name": "stdout",
     "output_type": "stream",
     "text": [
      "          Adjective  Count\n",
      "0       exaggerated      1\n",
      "1          stylized      4\n",
      "2     intergalactic      3\n",
      "3            single     89\n",
      "4             multi     10\n",
      "...             ...    ...\n",
      "2327     contestant      1\n",
      "2328        ragdoll      1\n",
      "2329       nameless      1\n",
      "2330        amnesic      1\n",
      "2331        dreaded      1\n",
      "\n",
      "[2332 rows x 2 columns]\n"
     ]
    }
   ],
   "source": [
    "# Example pd.Series of texts\n",
    "texts = steam_failure_about[:1000]\n",
    "\n",
    "# Apply the function to the entire pd.Series to get adjectives for each text\n",
    "all_adjectives = texts.apply(extract_adjectives)\n",
    "\n",
    "# Flatten the list of lists into a single list\n",
    "flat_adjectives = [adj for sublist in all_adjectives for adj in sublist]\n",
    "\n",
    "# Count the occurrences of each adjective\n",
    "adjective_counts = Counter(flat_adjectives)\n",
    "\n",
    "# Convert the counter to a DataFrame for better visualization\n",
    "adjective_df_failure = pd.DataFrame(\n",
    "    adjective_counts.items(), columns=[\"Adjective\", \"Count\"]\n",
    ")\n",
    "\n",
    "print(adjective_df_failure)"
   ]
  },
  {
   "cell_type": "code",
   "execution_count": 68,
   "metadata": {},
   "outputs": [
    {
     "data": {
      "text/plain": [
       "{'additional',\n",
       " 'advanced',\n",
       " 'deadly',\n",
       " 'deep',\n",
       " 'detailed',\n",
       " 'entire',\n",
       " 'favorite',\n",
       " 'intense',\n",
       " 'late',\n",
       " 'legendary',\n",
       " 'massive',\n",
       " 'personal',\n",
       " 'realistic',\n",
       " 'rich',\n",
       " 'strategic',\n",
       " 'stunning',\n",
       " 'ultimate',\n",
       " 'vast',\n",
       " 'wide'}"
      ]
     },
     "execution_count": 68,
     "metadata": {},
     "output_type": "execute_result"
    }
   ],
   "source": [
    "set(adjective_df_success.nlargest(100, \"Count\")[\"Adjective\"]) - set(\n",
    "    adjective_df_failure.nlargest(100, \"Count\")[\"Adjective\"]\n",
    ")"
   ]
  },
  {
   "cell_type": "code",
   "execution_count": 69,
   "metadata": {},
   "outputs": [
    {
     "data": {
      "text/plain": [
       "{'2d',\n",
       " 'alive',\n",
       " 'bad',\n",
       " 'certain',\n",
       " 'colorful',\n",
       " 'current',\n",
       " 'difficult',\n",
       " 'evil',\n",
       " 'final',\n",
       " 'hard',\n",
       " 'important',\n",
       " 'interactive',\n",
       " 'interesting',\n",
       " 'like',\n",
       " 'magical',\n",
       " 'most',\n",
       " 'short',\n",
       " 'specific',\n",
       " 'top'}"
      ]
     },
     "execution_count": 69,
     "metadata": {},
     "output_type": "execute_result"
    }
   ],
   "source": [
    "set(adjective_df_failure.nlargest(100, \"Count\")[\"Adjective\"]) - set(\n",
    "    adjective_df_success.nlargest(100, \"Count\")[\"Adjective\"]\n",
    ")"
   ]
  },
  {
   "cell_type": "code",
   "execution_count": 82,
   "metadata": {},
   "outputs": [],
   "source": [
    "filtered_df = adjective_df.nlargest(45, \"Count\")\n",
    "filtered_failure_df = adjective_df_failure.nlargest(45, \"Count\")"
   ]
  },
  {
   "cell_type": "markdown",
   "metadata": {},
   "source": [
    "training word2vec"
   ]
  },
  {
   "cell_type": "code",
   "execution_count": 35,
   "metadata": {},
   "outputs": [],
   "source": [
    "pre_processed_reviews = steam_df[\"About the game\"].dropna().apply(simple_preprocess)\n",
    "model = Word2Vec(\n",
    "    pre_processed_reviews, vector_size=100, window=5, min_count=1, workers=4\n",
    ")"
   ]
  },
  {
   "cell_type": "code",
   "execution_count": 48,
   "metadata": {},
   "outputs": [
    {
     "data": {
      "text/plain": [
       "0.8217431"
      ]
     },
     "execution_count": 48,
     "metadata": {},
     "output_type": "execute_result"
    }
   ],
   "source": [
    "model.wv.similarity(w1=\"brazil\", w2=\"argentina\")"
   ]
  },
  {
   "cell_type": "code",
   "execution_count": 70,
   "metadata": {},
   "outputs": [],
   "source": [
    "words_success = {\n",
    "    \"additional\",\n",
    "    \"advanced\",\n",
    "    \"deadly\",\n",
    "    \"deep\",\n",
    "    \"detailed\",\n",
    "    \"entire\",\n",
    "    \"favorite\",\n",
    "    \"intense\",\n",
    "    \"late\",\n",
    "    \"legendary\",\n",
    "    \"massive\",\n",
    "    \"personal\",\n",
    "    \"realistic\",\n",
    "    \"rich\",\n",
    "    \"strategic\",\n",
    "    \"stunning\",\n",
    "    \"ultimate\",\n",
    "    \"vast\",\n",
    "    \"wide\",\n",
    "}"
   ]
  },
  {
   "cell_type": "code",
   "execution_count": 75,
   "metadata": {},
   "outputs": [],
   "source": [
    "words_failure = {\n",
    "    \"2d\",\n",
    "    \"alive\",\n",
    "    \"bad\",\n",
    "    \"certain\",\n",
    "    \"colorful\",\n",
    "    \"current\",\n",
    "    \"difficult\",\n",
    "    \"evil\",\n",
    "    \"final\",\n",
    "    \"hard\",\n",
    "    \"important\",\n",
    "    \"interactive\",\n",
    "    \"interesting\",\n",
    "    \"like\",\n",
    "    \"magical\",\n",
    "    \"most\",\n",
    "    \"short\",\n",
    "    \"specific\",\n",
    "    \"top\",\n",
    "}"
   ]
  },
  {
   "cell_type": "code",
   "execution_count": 72,
   "metadata": {},
   "outputs": [],
   "source": [
    "# Get the vectors for the words in the list and compute the mean vector\n",
    "vectors_success = [model.wv[word] for word in words_success if word in model.wv]\n",
    "mean_vector_success = np.mean(vectors_success, axis=0)"
   ]
  },
  {
   "cell_type": "code",
   "execution_count": 76,
   "metadata": {},
   "outputs": [],
   "source": [
    "# Get the vectors for the words in the list and compute the mean vector\n",
    "vectors_failure = [model.wv[word] for word in words_failure if word in model.wv]\n",
    "mean_vector_failure = np.mean(vectors_failure, axis=0)"
   ]
  },
  {
   "cell_type": "code",
   "execution_count": 77,
   "metadata": {},
   "outputs": [
    {
     "data": {
      "text/plain": [
       "0.53824407"
      ]
     },
     "execution_count": 77,
     "metadata": {},
     "output_type": "execute_result"
    }
   ],
   "source": [
    "cosine_similarity(\n",
    "    mean_vector_success.reshape(1, -1), mean_vector_failure.reshape(1, -1)\n",
    ")[0][0]"
   ]
  },
  {
   "cell_type": "code",
   "execution_count": null,
   "metadata": {},
   "outputs": [],
   "source": []
  }
 ],
 "metadata": {
  "kernelspec": {
   "display_name": "steam-analysis",
   "language": "python",
   "name": "python3"
  },
  "language_info": {
   "codemirror_mode": {
    "name": "ipython",
    "version": 3
   },
   "file_extension": ".py",
   "mimetype": "text/x-python",
   "name": "python",
   "nbconvert_exporter": "python",
   "pygments_lexer": "ipython3",
   "version": "3.12.3"
  }
 },
 "nbformat": 4,
 "nbformat_minor": 2
}
