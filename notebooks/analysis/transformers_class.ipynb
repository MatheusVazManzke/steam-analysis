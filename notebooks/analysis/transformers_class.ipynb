{
 "cells": [
  {
   "cell_type": "code",
   "execution_count": null,
   "metadata": {},
   "outputs": [],
   "source": [
    "class BinaryColumnsTransformer(BaseEstimator, TransformerMixin):\n",
    "    def __init__(self, columns):\n",
    "        \"\"\"\n",
    "        Initialize the CounterTransformer with column names.\n",
    "\n",
    "        Parameters:\n",
    "        ----------\n",
    "        kwargs : dict\n",
    "            Dictionary where keys are the names of the columns in the input DataFrame\n",
    "            and values are the names of the new columns to be created.\n",
    "        \"\"\"\n",
    "        self.columns = columns\n",
    "\n",
    "    def fit(self, X, y=None):\n",
    "        return self\n",
    "\n",
    "    def transform(self, X):\n",
    "        X_transformed = X.copy()\n",
    "\n",
    "        # Count the number of unique items in each specified column\n",
    "        X_transformed = X.copy()\n",
    "\n",
    "        for col in self.columns:\n",
    "            X_transformed[f\"has_{col}\"] = ~X_transformed[col].isna()\n",
    "        return X_transformed"
   ]
  },
  {
   "cell_type": "code",
   "execution_count": null,
   "metadata": {},
   "outputs": [],
   "source": [
    "class LowerCaseColumnsTransformer(BaseEstimator, TransformerMixin):\n",
    "    def __init__(self):\n",
    "        return self\n",
    "\n",
    "    def fit(self, X, y=None):\n",
    "        return self\n",
    "\n",
    "    def transform(self, X):\n",
    "        X_transformed = X.copy()\n",
    "        X_transformed.columns = [col.lower().replace(\" \", \"_\") for col in self.columns]\n",
    "        return X_transformed"
   ]
  },
  {
   "cell_type": "code",
   "execution_count": null,
   "metadata": {},
   "outputs": [],
   "source": [
    "class FillNATransformers(BaseEstimator, TransformerMixin):\n",
    "    def __init__(self, columns):\n",
    "        \"\"\"\n",
    "        Initialize the CounterTransformer with column names.\n",
    "\n",
    "        Parameters:\n",
    "        ----------\n",
    "        kwargs : dict\n",
    "            Dictionary where keys are the names of the columns in the input DataFrame\n",
    "            and values are the names of the new columns to be created.\n",
    "        \"\"\"\n",
    "        self.columns = columns\n",
    "\n",
    "    def fit(self, X, y=None):\n",
    "        return self\n",
    "\n",
    "    def transform(self, X):\n",
    "        X_transformed = X.copy()\n",
    "\n",
    "        # Count the number of unique items in each specified column\n",
    "        X_transformed[self.columns] = X_transformed[self.columns].fillna(\"empty\")\n",
    "\n",
    "        return X_transformed"
   ]
  },
  {
   "cell_type": "code",
   "execution_count": null,
   "metadata": {},
   "outputs": [],
   "source": [
    "class DropNATransformers(BaseEstimator, TransformerMixin):\n",
    "    def __init__(self, columns):\n",
    "        \"\"\"\n",
    "        Initialize the CounterTransformer with column names.\n",
    "\n",
    "        Parameters:\n",
    "        ----------\n",
    "        kwargs : dict\n",
    "            Dictionary where keys are the names of the columns in the input DataFrame\n",
    "            and values are the names of the new columns to be created.\n",
    "        \"\"\"\n",
    "        self.columns = columns\n",
    "\n",
    "    def fit(self, X, y=None):\n",
    "        return self\n",
    "\n",
    "    def transform(self, X):\n",
    "        X_transformed = X.copy()\n",
    "\n",
    "        # Count the number of unique items in each specified column\n",
    "        X_transformed = X_transformed.dropna(subset=self.columns)\n",
    "\n",
    "        return X_transformed"
   ]
  },
  {
   "cell_type": "code",
   "execution_count": null,
   "metadata": {},
   "outputs": [],
   "source": [
    "class CounterColumnsTransformer(BaseEstimator, TransformerMixin):\n",
    "    def __init__(self, columns):\n",
    "        \"\"\"\n",
    "        Initialize the CounterTransformer with column names.\n",
    "\n",
    "        Parameters:\n",
    "        ----------\n",
    "        kwargs : dict\n",
    "            Dictionary where keys are the names of the columns in the input DataFrame\n",
    "            and values are the names of the new columns to be created.\n",
    "        \"\"\"\n",
    "        self.columns = columns\n",
    "\n",
    "    def fit(self, X, y=None):\n",
    "        return self\n",
    "\n",
    "    def transform(self, X):\n",
    "        X_transformed = X.copy()\n",
    "\n",
    "        # Count the number of unique items in each specified column\n",
    "        for col in self.columns:\n",
    "            X_transformed[f\"n_{col}\"] = X_transformed[col].apply(\n",
    "                lambda x: len(set(x.split(\",\")))\n",
    "            )\n",
    "        return X_transformed"
   ]
  },
  {
   "cell_type": "code",
   "execution_count": null,
   "metadata": {},
   "outputs": [],
   "source": [
    "import operator\n",
    "\n",
    "\n",
    "class ArithmeticColumnTransformer(BaseEstimator, TransformerMixin):\n",
    "    def __init__(self, column1, column2, operation, new_column_name):\n",
    "        self.column1 = column1\n",
    "        self.column2 = column2\n",
    "        self.operation = operation\n",
    "        self.new_column_name = new_column_name\n",
    "\n",
    "    def fit(self, X, y=None):\n",
    "        return result_array\n",
    "\n",
    "    def transform(self, X):\n",
    "        X_transformed = X.copy()\n",
    "\n",
    "        # Count the number of unique items in each specified column\n",
    "        # Perform the arithmetic operation\n",
    "        op_func = getattr(operator, self.operation)\n",
    "        X_transformed[self.new_column_name] = op_func(\n",
    "            X_transformed[self.column1], X_transformed[self.column2]\n",
    "        )\n",
    "\n",
    "        return X_transformed"
   ]
  },
  {
   "cell_type": "code",
   "execution_count": 2,
   "metadata": {},
   "outputs": [],
   "source": [
    "filter_dict = {\n",
    "    \"metacritic_score\": 0,\n",
    "    \"total_reviews\": 10,\n",
    "    \"year\": 2023,\n",
    "    \"genres\": \"indie\",\n",
    "}"
   ]
  },
  {
   "cell_type": "code",
   "execution_count": 10,
   "metadata": {},
   "outputs": [
    {
     "data": {
      "text/plain": [
       "'genres'"
      ]
     },
     "execution_count": 10,
     "metadata": {},
     "output_type": "execute_result"
    }
   ],
   "source": [
    "list(filter_dict.keys())[3]"
   ]
  },
  {
   "cell_type": "code",
   "execution_count": null,
   "metadata": {},
   "outputs": [],
   "source": [
    "class DataframeFilterTransformer(BaseEstimator, TransformerMixin):\n",
    "    def __init__(\n",
    "        self,\n",
    "        filter_dict={\n",
    "            \"metacritic_score\": 0,\n",
    "            \"total_reviews\": 10,\n",
    "            \"year\": 2023,\n",
    "            \"genres\": \"indie\",\n",
    "        },\n",
    "    ):\n",
    "        self.filter_dict = filter_dict\n",
    "\n",
    "    def fit(self, X, y=None):\n",
    "        return self\n",
    "\n",
    "    def transform(self, X):\n",
    "        X_transformed = X.copy()\n",
    "        X_transformed = X_transformed[\n",
    "            X_transformed[list(self.filter_dict.keys())[3]]\n",
    "            .str.contains(list(self.filter_dict.values())[3])\n",
    "            .fillna(False)\n",
    "        ]\n",
    "\n",
    "        X_transformed = X_transformed[\n",
    "            X_transformed[list(self.filter_dict.keys())[0]]\n",
    "            == list(self.filter_dict.values())[0]\n",
    "        ]\n",
    "        X_transformed = X_transformed[\n",
    "            X_transformed[list(self.filter_dict.keys())[1]]\n",
    "            > list(self.filter_dict.values())[1]\n",
    "        ]\n",
    "        X_transformed = X_transformed[\n",
    "            X_transformed[list(self.filter_dict.keys())[2]]\n",
    "            >= list(self.filter_dict.values())[2]\n",
    "        ]\n",
    "\n",
    "        return X_transformed"
   ]
  }
 ],
 "metadata": {
  "kernelspec": {
   "display_name": "steam-analysis",
   "language": "python",
   "name": "python3"
  },
  "language_info": {
   "codemirror_mode": {
    "name": "ipython",
    "version": 3
   },
   "file_extension": ".py",
   "mimetype": "text/x-python",
   "name": "python",
   "nbconvert_exporter": "python",
   "pygments_lexer": "ipython3",
   "version": "3.12.3"
  }
 },
 "nbformat": 4,
 "nbformat_minor": 2
}
