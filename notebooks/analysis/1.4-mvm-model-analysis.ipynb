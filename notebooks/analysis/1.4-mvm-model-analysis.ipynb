{
 "cells": [
  {
   "cell_type": "code",
   "execution_count": null,
   "metadata": {},
   "outputs": [],
   "source": [
    "result = permutation_importance(\n",
    "    rf,\n",
    "    X_test,\n",
    "    y_test,\n",
    "    n_repeats=10,\n",
    "    random_state=42,\n",
    "    n_jobs=2,\n",
    "    scoring=precision_scorer,\n",
    ")\n",
    "\n",
    "sorted_importances_idx = result.importances_mean.argsort()\n",
    "importances = pd.DataFrame(\n",
    "    result.importances[sorted_importances_idx].T,\n",
    "    columns=X.columns[sorted_importances_idx],\n",
    ")\n",
    "\n",
    "# Plot permutation importances\n",
    "fig, ax = plt.subplots()\n",
    "importances.plot.box(\n",
    "    vert=False,\n",
    "    whis=10,\n",
    "    ax=ax,\n",
    "    patch_artist=True,\n",
    "    boxprops=dict(facecolor=\"lightblue\", color=\"blue\"),\n",
    "    medianprops=dict(color=\"red\", linewidth=2),\n",
    "    meanprops=dict(marker=\"o\", markerfacecolor=\"black\", markeredgecolor=\"black\"),\n",
    ")\n",
    "\n",
    "# Adding a mean line\n",
    "for i in range(importances.shape[1]):\n",
    "    mean_value = importances.iloc[:, i].mean()\n",
    "    ax.plot(mean_value, i, \"o\", color=\"black\")\n",
    "\n",
    "ax.set_title(\"Permutation Importances (test set)\")\n",
    "ax.axvline(x=0, color=\"k\", linestyle=\"--\")\n",
    "ax.set_xlabel(\"Decrease in F1 score\")\n",
    "ax.figure.tight_layout()\n",
    "\n",
    "plt.show()"
   ]
  },
  {
   "cell_type": "code",
   "execution_count": null,
   "metadata": {},
   "outputs": [],
   "source": [
    "# Initialize SHAP explainer\n",
    "explainer = shap.TreeExplainer(rf)\n",
    "\n",
    "# Calculate SHAP values for the test set\n",
    "shap_values = explainer.shap_values(X_test)\n",
    "\n",
    "# Print the shapes for debugging\n",
    "if isinstance(shap_values, list):\n",
    "    print(f\"Shapes of shap_values list: {[arr.shape for arr in shap_values]}\")\n",
    "else:\n",
    "    print(f\"Shape of shap_values: {shap_values.shape}\")\n",
    "print(f\"Shape of X_test: {X_test.shape}\")\n",
    "# # Plot summary of SHAP values for the test set\n",
    "shap.summary_plot(shap_values[1], X_train)"
   ]
  },
  {
   "cell_type": "code",
   "execution_count": 3,
   "metadata": {},
   "outputs": [
    {
     "ename": "ModuleNotFoundError",
     "evalue": "No module named 'src'",
     "output_type": "error",
     "traceback": [
      "\u001b[0;31m---------------------------------------------------------------------------\u001b[0m",
      "\u001b[0;31mModuleNotFoundError\u001b[0m                       Traceback (most recent call last)",
      "Cell \u001b[0;32mIn[3], line 1\u001b[0m\n\u001b[0;32m----> 1\u001b[0m \u001b[38;5;28;01mfrom\u001b[39;00m \u001b[38;5;21;01msrc\u001b[39;00m\u001b[38;5;21;01m.\u001b[39;00m\u001b[38;5;21;01mfeatures\u001b[39;00m\u001b[38;5;21;01m.\u001b[39;00m\u001b[38;5;21;01mutils\u001b[39;00m \u001b[38;5;28;01mimport\u001b[39;00m load_data, save_data\n",
      "\u001b[0;31mModuleNotFoundError\u001b[0m: No module named 'src'"
     ]
    }
   ],
   "source": [
    "from src.features.utils import load_data, save_data"
   ]
  },
  {
   "cell_type": "code",
   "execution_count": null,
   "metadata": {},
   "outputs": [],
   "source": []
  },
  {
   "cell_type": "code",
   "execution_count": null,
   "metadata": {},
   "outputs": [],
   "source": [
    "data = load_data(\"data/raw/games.csv\")"
   ]
  },
  {
   "cell_type": "code",
   "execution_count": null,
   "metadata": {},
   "outputs": [],
   "source": [
    "shap.summary_plot(shap_values=shap_values[1], features=X_test)"
   ]
  }
 ],
 "metadata": {
  "kernelspec": {
   "display_name": "steam-analysis",
   "language": "python",
   "name": "python3"
  },
  "language_info": {
   "codemirror_mode": {
    "name": "ipython",
    "version": 3
   },
   "file_extension": ".py",
   "mimetype": "text/x-python",
   "name": "python",
   "nbconvert_exporter": "python",
   "pygments_lexer": "ipython3",
   "version": "3.12.3"
  }
 },
 "nbformat": 4,
 "nbformat_minor": 2
}
